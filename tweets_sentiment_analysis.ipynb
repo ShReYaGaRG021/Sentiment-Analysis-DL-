{
  "nbformat": 4,
  "nbformat_minor": 0,
  "metadata": {
    "colab": {
      "provenance": []
    },
    "kernelspec": {
      "name": "python3",
      "display_name": "Python 3"
    },
    "language_info": {
      "name": "python"
    }
  },
  "cells": [
    {
      "cell_type": "code",
      "execution_count": 1,
      "metadata": {
        "id": "NQPUbSje4w2n"
      },
      "outputs": [],
      "source": [
        "import nltk\n",
        "import string\n",
        "import pandas as pd\n",
        "import re\n",
        "import numpy as np\n",
        "import matplotlib.pyplot as plt\n",
        "import seaborn as sns\n",
        "import warnings\n",
        "%matplotlib inline\n",
        "warnings.filterwarnings('ignore')"
      ]
    },
    {
      "cell_type": "code",
      "source": [
        "df = pd.read_csv(\"Sentiment.csv\")"
      ],
      "metadata": {
        "id": "ElhTXhYd41m5"
      },
      "execution_count": 2,
      "outputs": []
    },
    {
      "cell_type": "code",
      "source": [
        "df"
      ],
      "metadata": {
        "colab": {
          "base_uri": "https://localhost:8080/",
          "height": 869
        },
        "id": "qQtQ9ReZ5J0m",
        "outputId": "2607d308-d9a8-4e0a-e492-7a487b9bcd94"
      },
      "execution_count": 3,
      "outputs": [
        {
          "output_type": "execute_result",
          "data": {
            "text/plain": [
              "          id               candidate  candidate_confidence relevant_yn  \\\n",
              "0          1  No candidate mentioned                1.0000         yes   \n",
              "1          2            Scott Walker                1.0000         yes   \n",
              "2          3  No candidate mentioned                1.0000         yes   \n",
              "3          4  No candidate mentioned                1.0000         yes   \n",
              "4          5            Donald Trump                1.0000         yes   \n",
              "...      ...                     ...                   ...         ...   \n",
              "13866  13867  No candidate mentioned                1.0000         yes   \n",
              "13867  13868           Mike Huckabee                0.9611         yes   \n",
              "13868  13869                Ted Cruz                1.0000         yes   \n",
              "13869  13870            Donald Trump                1.0000         yes   \n",
              "13870  13871                Ted Cruz                0.9242         yes   \n",
              "\n",
              "       relevant_yn_confidence sentiment  sentiment_confidence  \\\n",
              "0                      1.0000   Neutral                0.6578   \n",
              "1                      1.0000  Positive                0.6333   \n",
              "2                      1.0000   Neutral                0.6629   \n",
              "3                      1.0000  Positive                1.0000   \n",
              "4                      1.0000  Positive                0.7045   \n",
              "...                       ...       ...                   ...   \n",
              "13866                  1.0000  Negative                0.7991   \n",
              "13867                  1.0000  Positive                0.7302   \n",
              "13868                  1.0000  Positive                0.8051   \n",
              "13869                  1.0000  Negative                1.0000   \n",
              "13870                  0.9614  Positive                0.9614   \n",
              "\n",
              "                             subject_matter  subject_matter_confidence  \\\n",
              "0                         None of the above                     1.0000   \n",
              "1                         None of the above                     1.0000   \n",
              "2                         None of the above                     0.6629   \n",
              "3                         None of the above                     0.7039   \n",
              "4                         None of the above                     1.0000   \n",
              "...                                     ...                        ...   \n",
              "13866                              Abortion                     0.6014   \n",
              "13867                     None of the above                     0.9229   \n",
              "13868                     None of the above                     0.9647   \n",
              "13869  Women's Issues (not abortion though)                     0.9202   \n",
              "13870                     None of the above                     0.9242   \n",
              "\n",
              "               candidate_gold  ... relevant_yn_gold retweet_count  \\\n",
              "0                         NaN  ...              NaN             5   \n",
              "1                         NaN  ...              NaN            26   \n",
              "2                         NaN  ...              NaN            27   \n",
              "3                         NaN  ...              NaN           138   \n",
              "4                         NaN  ...              NaN           156   \n",
              "...                       ...  ...              ...           ...   \n",
              "13866  No candidate mentioned  ...              yes             7   \n",
              "13867           Mike Huckabee  ...              yes             1   \n",
              "13868                Ted Cruz  ...              yes            67   \n",
              "13869            Donald Trump  ...              yes           149   \n",
              "13870                Ted Cruz  ...              yes            65   \n",
              "\n",
              "          sentiment_gold                             subject_matter_gold  \\\n",
              "0                    NaN                                             NaN   \n",
              "1                    NaN                                             NaN   \n",
              "2                    NaN                                             NaN   \n",
              "3                    NaN                                             NaN   \n",
              "4                    NaN                                             NaN   \n",
              "...                  ...                                             ...   \n",
              "13866           Negative  Abortion\\nWomen's Issues (not abortion though)   \n",
              "13867                NaN                                             NaN   \n",
              "13868  Positive\\nNeutral                                             NaN   \n",
              "13869                NaN            Women's Issues (not abortion though)   \n",
              "13870           Positive                                             NaN   \n",
              "\n",
              "                                                    text tweet_coord  \\\n",
              "0      RT @NancyLeeGrahn: How did everyone feel about...         NaN   \n",
              "1      RT @ScottWalker: Didn't catch the full #GOPdeb...         NaN   \n",
              "2      RT @TJMShow: No mention of Tamir Rice and the ...         NaN   \n",
              "3      RT @RobGeorge: That Carly Fiorina is trending ...         NaN   \n",
              "4      RT @DanScavino: #GOPDebate w/ @realDonaldTrump...         NaN   \n",
              "...                                                  ...         ...   \n",
              "13866  RT @cappy_yarbrough: Love to see men who will ...         NaN   \n",
              "13867  RT @georgehenryw: Who thought Huckabee exceede...         NaN   \n",
              "13868  RT @Lrihendry: #TedCruz As President, I will a...         NaN   \n",
              "13869  RT @JRehling: #GOPDebate Donald Trump says tha...         NaN   \n",
              "13870  RT @Lrihendry: #TedCruz headed into the Presid...         NaN   \n",
              "\n",
              "                   tweet_created            tweet_id   tweet_location  \\\n",
              "0      2015-08-07 09:54:46 -0700  629697200650592256              NaN   \n",
              "1      2015-08-07 09:54:46 -0700  629697199560069120              NaN   \n",
              "2      2015-08-07 09:54:46 -0700  629697199312482304              NaN   \n",
              "3      2015-08-07 09:54:45 -0700  629697197118861312            Texas   \n",
              "4      2015-08-07 09:54:45 -0700  629697196967903232              NaN   \n",
              "...                          ...                 ...              ...   \n",
              "13866  2015-08-07 09:29:43 -0700  629690895479250944             Como   \n",
              "13867  2015-08-07 09:25:02 -0700  629689719056568320              USA   \n",
              "13868  2015-08-07 07:19:18 -0700  629658075784282112              NaN   \n",
              "13869  2015-08-07 09:54:04 -0700  629697023663546368              NaN   \n",
              "13870  2015-08-06 18:22:27 -0700  629462573641920512  San Antonio, TX   \n",
              "\n",
              "                    user_timezone  \n",
              "0                           Quito  \n",
              "1                             NaN  \n",
              "2                             NaN  \n",
              "3      Central Time (US & Canada)  \n",
              "4                         Arizona  \n",
              "...                           ...  \n",
              "13866                         NaN  \n",
              "13867                         NaN  \n",
              "13868                         NaN  \n",
              "13869                         NaN  \n",
              "13870  Central Time (US & Canada)  \n",
              "\n",
              "[13871 rows x 21 columns]"
            ],
            "text/html": [
              "\n",
              "  <div id=\"df-822319a7-b541-40d7-bc53-efe92edf7cb9\">\n",
              "    <div class=\"colab-df-container\">\n",
              "      <div>\n",
              "<style scoped>\n",
              "    .dataframe tbody tr th:only-of-type {\n",
              "        vertical-align: middle;\n",
              "    }\n",
              "\n",
              "    .dataframe tbody tr th {\n",
              "        vertical-align: top;\n",
              "    }\n",
              "\n",
              "    .dataframe thead th {\n",
              "        text-align: right;\n",
              "    }\n",
              "</style>\n",
              "<table border=\"1\" class=\"dataframe\">\n",
              "  <thead>\n",
              "    <tr style=\"text-align: right;\">\n",
              "      <th></th>\n",
              "      <th>id</th>\n",
              "      <th>candidate</th>\n",
              "      <th>candidate_confidence</th>\n",
              "      <th>relevant_yn</th>\n",
              "      <th>relevant_yn_confidence</th>\n",
              "      <th>sentiment</th>\n",
              "      <th>sentiment_confidence</th>\n",
              "      <th>subject_matter</th>\n",
              "      <th>subject_matter_confidence</th>\n",
              "      <th>candidate_gold</th>\n",
              "      <th>...</th>\n",
              "      <th>relevant_yn_gold</th>\n",
              "      <th>retweet_count</th>\n",
              "      <th>sentiment_gold</th>\n",
              "      <th>subject_matter_gold</th>\n",
              "      <th>text</th>\n",
              "      <th>tweet_coord</th>\n",
              "      <th>tweet_created</th>\n",
              "      <th>tweet_id</th>\n",
              "      <th>tweet_location</th>\n",
              "      <th>user_timezone</th>\n",
              "    </tr>\n",
              "  </thead>\n",
              "  <tbody>\n",
              "    <tr>\n",
              "      <th>0</th>\n",
              "      <td>1</td>\n",
              "      <td>No candidate mentioned</td>\n",
              "      <td>1.0000</td>\n",
              "      <td>yes</td>\n",
              "      <td>1.0000</td>\n",
              "      <td>Neutral</td>\n",
              "      <td>0.6578</td>\n",
              "      <td>None of the above</td>\n",
              "      <td>1.0000</td>\n",
              "      <td>NaN</td>\n",
              "      <td>...</td>\n",
              "      <td>NaN</td>\n",
              "      <td>5</td>\n",
              "      <td>NaN</td>\n",
              "      <td>NaN</td>\n",
              "      <td>RT @NancyLeeGrahn: How did everyone feel about...</td>\n",
              "      <td>NaN</td>\n",
              "      <td>2015-08-07 09:54:46 -0700</td>\n",
              "      <td>629697200650592256</td>\n",
              "      <td>NaN</td>\n",
              "      <td>Quito</td>\n",
              "    </tr>\n",
              "    <tr>\n",
              "      <th>1</th>\n",
              "      <td>2</td>\n",
              "      <td>Scott Walker</td>\n",
              "      <td>1.0000</td>\n",
              "      <td>yes</td>\n",
              "      <td>1.0000</td>\n",
              "      <td>Positive</td>\n",
              "      <td>0.6333</td>\n",
              "      <td>None of the above</td>\n",
              "      <td>1.0000</td>\n",
              "      <td>NaN</td>\n",
              "      <td>...</td>\n",
              "      <td>NaN</td>\n",
              "      <td>26</td>\n",
              "      <td>NaN</td>\n",
              "      <td>NaN</td>\n",
              "      <td>RT @ScottWalker: Didn't catch the full #GOPdeb...</td>\n",
              "      <td>NaN</td>\n",
              "      <td>2015-08-07 09:54:46 -0700</td>\n",
              "      <td>629697199560069120</td>\n",
              "      <td>NaN</td>\n",
              "      <td>NaN</td>\n",
              "    </tr>\n",
              "    <tr>\n",
              "      <th>2</th>\n",
              "      <td>3</td>\n",
              "      <td>No candidate mentioned</td>\n",
              "      <td>1.0000</td>\n",
              "      <td>yes</td>\n",
              "      <td>1.0000</td>\n",
              "      <td>Neutral</td>\n",
              "      <td>0.6629</td>\n",
              "      <td>None of the above</td>\n",
              "      <td>0.6629</td>\n",
              "      <td>NaN</td>\n",
              "      <td>...</td>\n",
              "      <td>NaN</td>\n",
              "      <td>27</td>\n",
              "      <td>NaN</td>\n",
              "      <td>NaN</td>\n",
              "      <td>RT @TJMShow: No mention of Tamir Rice and the ...</td>\n",
              "      <td>NaN</td>\n",
              "      <td>2015-08-07 09:54:46 -0700</td>\n",
              "      <td>629697199312482304</td>\n",
              "      <td>NaN</td>\n",
              "      <td>NaN</td>\n",
              "    </tr>\n",
              "    <tr>\n",
              "      <th>3</th>\n",
              "      <td>4</td>\n",
              "      <td>No candidate mentioned</td>\n",
              "      <td>1.0000</td>\n",
              "      <td>yes</td>\n",
              "      <td>1.0000</td>\n",
              "      <td>Positive</td>\n",
              "      <td>1.0000</td>\n",
              "      <td>None of the above</td>\n",
              "      <td>0.7039</td>\n",
              "      <td>NaN</td>\n",
              "      <td>...</td>\n",
              "      <td>NaN</td>\n",
              "      <td>138</td>\n",
              "      <td>NaN</td>\n",
              "      <td>NaN</td>\n",
              "      <td>RT @RobGeorge: That Carly Fiorina is trending ...</td>\n",
              "      <td>NaN</td>\n",
              "      <td>2015-08-07 09:54:45 -0700</td>\n",
              "      <td>629697197118861312</td>\n",
              "      <td>Texas</td>\n",
              "      <td>Central Time (US &amp; Canada)</td>\n",
              "    </tr>\n",
              "    <tr>\n",
              "      <th>4</th>\n",
              "      <td>5</td>\n",
              "      <td>Donald Trump</td>\n",
              "      <td>1.0000</td>\n",
              "      <td>yes</td>\n",
              "      <td>1.0000</td>\n",
              "      <td>Positive</td>\n",
              "      <td>0.7045</td>\n",
              "      <td>None of the above</td>\n",
              "      <td>1.0000</td>\n",
              "      <td>NaN</td>\n",
              "      <td>...</td>\n",
              "      <td>NaN</td>\n",
              "      <td>156</td>\n",
              "      <td>NaN</td>\n",
              "      <td>NaN</td>\n",
              "      <td>RT @DanScavino: #GOPDebate w/ @realDonaldTrump...</td>\n",
              "      <td>NaN</td>\n",
              "      <td>2015-08-07 09:54:45 -0700</td>\n",
              "      <td>629697196967903232</td>\n",
              "      <td>NaN</td>\n",
              "      <td>Arizona</td>\n",
              "    </tr>\n",
              "    <tr>\n",
              "      <th>...</th>\n",
              "      <td>...</td>\n",
              "      <td>...</td>\n",
              "      <td>...</td>\n",
              "      <td>...</td>\n",
              "      <td>...</td>\n",
              "      <td>...</td>\n",
              "      <td>...</td>\n",
              "      <td>...</td>\n",
              "      <td>...</td>\n",
              "      <td>...</td>\n",
              "      <td>...</td>\n",
              "      <td>...</td>\n",
              "      <td>...</td>\n",
              "      <td>...</td>\n",
              "      <td>...</td>\n",
              "      <td>...</td>\n",
              "      <td>...</td>\n",
              "      <td>...</td>\n",
              "      <td>...</td>\n",
              "      <td>...</td>\n",
              "      <td>...</td>\n",
              "    </tr>\n",
              "    <tr>\n",
              "      <th>13866</th>\n",
              "      <td>13867</td>\n",
              "      <td>No candidate mentioned</td>\n",
              "      <td>1.0000</td>\n",
              "      <td>yes</td>\n",
              "      <td>1.0000</td>\n",
              "      <td>Negative</td>\n",
              "      <td>0.7991</td>\n",
              "      <td>Abortion</td>\n",
              "      <td>0.6014</td>\n",
              "      <td>No candidate mentioned</td>\n",
              "      <td>...</td>\n",
              "      <td>yes</td>\n",
              "      <td>7</td>\n",
              "      <td>Negative</td>\n",
              "      <td>Abortion\\nWomen's Issues (not abortion though)</td>\n",
              "      <td>RT @cappy_yarbrough: Love to see men who will ...</td>\n",
              "      <td>NaN</td>\n",
              "      <td>2015-08-07 09:29:43 -0700</td>\n",
              "      <td>629690895479250944</td>\n",
              "      <td>Como</td>\n",
              "      <td>NaN</td>\n",
              "    </tr>\n",
              "    <tr>\n",
              "      <th>13867</th>\n",
              "      <td>13868</td>\n",
              "      <td>Mike Huckabee</td>\n",
              "      <td>0.9611</td>\n",
              "      <td>yes</td>\n",
              "      <td>1.0000</td>\n",
              "      <td>Positive</td>\n",
              "      <td>0.7302</td>\n",
              "      <td>None of the above</td>\n",
              "      <td>0.9229</td>\n",
              "      <td>Mike Huckabee</td>\n",
              "      <td>...</td>\n",
              "      <td>yes</td>\n",
              "      <td>1</td>\n",
              "      <td>NaN</td>\n",
              "      <td>NaN</td>\n",
              "      <td>RT @georgehenryw: Who thought Huckabee exceede...</td>\n",
              "      <td>NaN</td>\n",
              "      <td>2015-08-07 09:25:02 -0700</td>\n",
              "      <td>629689719056568320</td>\n",
              "      <td>USA</td>\n",
              "      <td>NaN</td>\n",
              "    </tr>\n",
              "    <tr>\n",
              "      <th>13868</th>\n",
              "      <td>13869</td>\n",
              "      <td>Ted Cruz</td>\n",
              "      <td>1.0000</td>\n",
              "      <td>yes</td>\n",
              "      <td>1.0000</td>\n",
              "      <td>Positive</td>\n",
              "      <td>0.8051</td>\n",
              "      <td>None of the above</td>\n",
              "      <td>0.9647</td>\n",
              "      <td>Ted Cruz</td>\n",
              "      <td>...</td>\n",
              "      <td>yes</td>\n",
              "      <td>67</td>\n",
              "      <td>Positive\\nNeutral</td>\n",
              "      <td>NaN</td>\n",
              "      <td>RT @Lrihendry: #TedCruz As President, I will a...</td>\n",
              "      <td>NaN</td>\n",
              "      <td>2015-08-07 07:19:18 -0700</td>\n",
              "      <td>629658075784282112</td>\n",
              "      <td>NaN</td>\n",
              "      <td>NaN</td>\n",
              "    </tr>\n",
              "    <tr>\n",
              "      <th>13869</th>\n",
              "      <td>13870</td>\n",
              "      <td>Donald Trump</td>\n",
              "      <td>1.0000</td>\n",
              "      <td>yes</td>\n",
              "      <td>1.0000</td>\n",
              "      <td>Negative</td>\n",
              "      <td>1.0000</td>\n",
              "      <td>Women's Issues (not abortion though)</td>\n",
              "      <td>0.9202</td>\n",
              "      <td>Donald Trump</td>\n",
              "      <td>...</td>\n",
              "      <td>yes</td>\n",
              "      <td>149</td>\n",
              "      <td>NaN</td>\n",
              "      <td>Women's Issues (not abortion though)</td>\n",
              "      <td>RT @JRehling: #GOPDebate Donald Trump says tha...</td>\n",
              "      <td>NaN</td>\n",
              "      <td>2015-08-07 09:54:04 -0700</td>\n",
              "      <td>629697023663546368</td>\n",
              "      <td>NaN</td>\n",
              "      <td>NaN</td>\n",
              "    </tr>\n",
              "    <tr>\n",
              "      <th>13870</th>\n",
              "      <td>13871</td>\n",
              "      <td>Ted Cruz</td>\n",
              "      <td>0.9242</td>\n",
              "      <td>yes</td>\n",
              "      <td>0.9614</td>\n",
              "      <td>Positive</td>\n",
              "      <td>0.9614</td>\n",
              "      <td>None of the above</td>\n",
              "      <td>0.9242</td>\n",
              "      <td>Ted Cruz</td>\n",
              "      <td>...</td>\n",
              "      <td>yes</td>\n",
              "      <td>65</td>\n",
              "      <td>Positive</td>\n",
              "      <td>NaN</td>\n",
              "      <td>RT @Lrihendry: #TedCruz headed into the Presid...</td>\n",
              "      <td>NaN</td>\n",
              "      <td>2015-08-06 18:22:27 -0700</td>\n",
              "      <td>629462573641920512</td>\n",
              "      <td>San Antonio, TX</td>\n",
              "      <td>Central Time (US &amp; Canada)</td>\n",
              "    </tr>\n",
              "  </tbody>\n",
              "</table>\n",
              "<p>13871 rows × 21 columns</p>\n",
              "</div>\n",
              "      <button class=\"colab-df-convert\" onclick=\"convertToInteractive('df-822319a7-b541-40d7-bc53-efe92edf7cb9')\"\n",
              "              title=\"Convert this dataframe to an interactive table.\"\n",
              "              style=\"display:none;\">\n",
              "        \n",
              "  <svg xmlns=\"http://www.w3.org/2000/svg\" height=\"24px\"viewBox=\"0 0 24 24\"\n",
              "       width=\"24px\">\n",
              "    <path d=\"M0 0h24v24H0V0z\" fill=\"none\"/>\n",
              "    <path d=\"M18.56 5.44l.94 2.06.94-2.06 2.06-.94-2.06-.94-.94-2.06-.94 2.06-2.06.94zm-11 1L8.5 8.5l.94-2.06 2.06-.94-2.06-.94L8.5 2.5l-.94 2.06-2.06.94zm10 10l.94 2.06.94-2.06 2.06-.94-2.06-.94-.94-2.06-.94 2.06-2.06.94z\"/><path d=\"M17.41 7.96l-1.37-1.37c-.4-.4-.92-.59-1.43-.59-.52 0-1.04.2-1.43.59L10.3 9.45l-7.72 7.72c-.78.78-.78 2.05 0 2.83L4 21.41c.39.39.9.59 1.41.59.51 0 1.02-.2 1.41-.59l7.78-7.78 2.81-2.81c.8-.78.8-2.07 0-2.86zM5.41 20L4 18.59l7.72-7.72 1.47 1.35L5.41 20z\"/>\n",
              "  </svg>\n",
              "      </button>\n",
              "      \n",
              "  <style>\n",
              "    .colab-df-container {\n",
              "      display:flex;\n",
              "      flex-wrap:wrap;\n",
              "      gap: 12px;\n",
              "    }\n",
              "\n",
              "    .colab-df-convert {\n",
              "      background-color: #E8F0FE;\n",
              "      border: none;\n",
              "      border-radius: 50%;\n",
              "      cursor: pointer;\n",
              "      display: none;\n",
              "      fill: #1967D2;\n",
              "      height: 32px;\n",
              "      padding: 0 0 0 0;\n",
              "      width: 32px;\n",
              "    }\n",
              "\n",
              "    .colab-df-convert:hover {\n",
              "      background-color: #E2EBFA;\n",
              "      box-shadow: 0px 1px 2px rgba(60, 64, 67, 0.3), 0px 1px 3px 1px rgba(60, 64, 67, 0.15);\n",
              "      fill: #174EA6;\n",
              "    }\n",
              "\n",
              "    [theme=dark] .colab-df-convert {\n",
              "      background-color: #3B4455;\n",
              "      fill: #D2E3FC;\n",
              "    }\n",
              "\n",
              "    [theme=dark] .colab-df-convert:hover {\n",
              "      background-color: #434B5C;\n",
              "      box-shadow: 0px 1px 3px 1px rgba(0, 0, 0, 0.15);\n",
              "      filter: drop-shadow(0px 1px 2px rgba(0, 0, 0, 0.3));\n",
              "      fill: #FFFFFF;\n",
              "    }\n",
              "  </style>\n",
              "\n",
              "      <script>\n",
              "        const buttonEl =\n",
              "          document.querySelector('#df-822319a7-b541-40d7-bc53-efe92edf7cb9 button.colab-df-convert');\n",
              "        buttonEl.style.display =\n",
              "          google.colab.kernel.accessAllowed ? 'block' : 'none';\n",
              "\n",
              "        async function convertToInteractive(key) {\n",
              "          const element = document.querySelector('#df-822319a7-b541-40d7-bc53-efe92edf7cb9');\n",
              "          const dataTable =\n",
              "            await google.colab.kernel.invokeFunction('convertToInteractive',\n",
              "                                                     [key], {});\n",
              "          if (!dataTable) return;\n",
              "\n",
              "          const docLinkHtml = 'Like what you see? Visit the ' +\n",
              "            '<a target=\"_blank\" href=https://colab.research.google.com/notebooks/data_table.ipynb>data table notebook</a>'\n",
              "            + ' to learn more about interactive tables.';\n",
              "          element.innerHTML = '';\n",
              "          dataTable['output_type'] = 'display_data';\n",
              "          await google.colab.output.renderOutput(dataTable, element);\n",
              "          const docLink = document.createElement('div');\n",
              "          docLink.innerHTML = docLinkHtml;\n",
              "          element.appendChild(docLink);\n",
              "        }\n",
              "      </script>\n",
              "    </div>\n",
              "  </div>\n",
              "  "
            ]
          },
          "metadata": {},
          "execution_count": 3
        }
      ]
    },
    {
      "cell_type": "code",
      "source": [
        "df.shape"
      ],
      "metadata": {
        "colab": {
          "base_uri": "https://localhost:8080/"
        },
        "id": "2JYiGacE5LNp",
        "outputId": "14f8058f-5621-44aa-a6ce-6dec66f3e3e7"
      },
      "execution_count": 4,
      "outputs": [
        {
          "output_type": "execute_result",
          "data": {
            "text/plain": [
              "(13871, 21)"
            ]
          },
          "metadata": {},
          "execution_count": 4
        }
      ]
    },
    {
      "cell_type": "code",
      "source": [
        "df.info()"
      ],
      "metadata": {
        "colab": {
          "base_uri": "https://localhost:8080/"
        },
        "id": "j8W7sJf-5Nsl",
        "outputId": "d5f17c74-cf87-4c90-84e8-8d9422a28c81"
      },
      "execution_count": 5,
      "outputs": [
        {
          "output_type": "stream",
          "name": "stdout",
          "text": [
            "<class 'pandas.core.frame.DataFrame'>\n",
            "RangeIndex: 13871 entries, 0 to 13870\n",
            "Data columns (total 21 columns):\n",
            " #   Column                     Non-Null Count  Dtype  \n",
            "---  ------                     --------------  -----  \n",
            " 0   id                         13871 non-null  int64  \n",
            " 1   candidate                  13775 non-null  object \n",
            " 2   candidate_confidence       13871 non-null  float64\n",
            " 3   relevant_yn                13871 non-null  object \n",
            " 4   relevant_yn_confidence     13871 non-null  float64\n",
            " 5   sentiment                  13871 non-null  object \n",
            " 6   sentiment_confidence       13871 non-null  float64\n",
            " 7   subject_matter             13545 non-null  object \n",
            " 8   subject_matter_confidence  13871 non-null  float64\n",
            " 9   candidate_gold             28 non-null     object \n",
            " 10  name                       13871 non-null  object \n",
            " 11  relevant_yn_gold           32 non-null     object \n",
            " 12  retweet_count              13871 non-null  int64  \n",
            " 13  sentiment_gold             15 non-null     object \n",
            " 14  subject_matter_gold        18 non-null     object \n",
            " 15  text                       13871 non-null  object \n",
            " 16  tweet_coord                21 non-null     object \n",
            " 17  tweet_created              13871 non-null  object \n",
            " 18  tweet_id                   13871 non-null  int64  \n",
            " 19  tweet_location             9959 non-null   object \n",
            " 20  user_timezone              9468 non-null   object \n",
            "dtypes: float64(4), int64(3), object(14)\n",
            "memory usage: 2.2+ MB\n"
          ]
        }
      ]
    },
    {
      "cell_type": "code",
      "source": [
        "df.isnull().sum()"
      ],
      "metadata": {
        "colab": {
          "base_uri": "https://localhost:8080/"
        },
        "id": "zNLeTS2z5PGs",
        "outputId": "516425ae-acb1-4337-90b1-ced29d2b2305"
      },
      "execution_count": 6,
      "outputs": [
        {
          "output_type": "execute_result",
          "data": {
            "text/plain": [
              "id                               0\n",
              "candidate                       96\n",
              "candidate_confidence             0\n",
              "relevant_yn                      0\n",
              "relevant_yn_confidence           0\n",
              "sentiment                        0\n",
              "sentiment_confidence             0\n",
              "subject_matter                 326\n",
              "subject_matter_confidence        0\n",
              "candidate_gold               13843\n",
              "name                             0\n",
              "relevant_yn_gold             13839\n",
              "retweet_count                    0\n",
              "sentiment_gold               13856\n",
              "subject_matter_gold          13853\n",
              "text                             0\n",
              "tweet_coord                  13850\n",
              "tweet_created                    0\n",
              "tweet_id                         0\n",
              "tweet_location                3912\n",
              "user_timezone                 4403\n",
              "dtype: int64"
            ]
          },
          "metadata": {},
          "execution_count": 6
        }
      ]
    },
    {
      "cell_type": "code",
      "source": [
        "df.drop(columns=[\"candidate_gold\",\"relevant_yn_gold\",\"sentiment_gold\",\"subject_matter_gold\",\"tweet_coord\",\"id\"], inplace=True)"
      ],
      "metadata": {
        "id": "k-O6d2Ed5Q0_"
      },
      "execution_count": 7,
      "outputs": []
    },
    {
      "cell_type": "code",
      "source": [
        "df.head()"
      ],
      "metadata": {
        "colab": {
          "base_uri": "https://localhost:8080/",
          "height": 461
        },
        "id": "ExwGi_ri5TE2",
        "outputId": "b9d579af-630f-4344-e686-c299d5ac14f1"
      },
      "execution_count": 8,
      "outputs": [
        {
          "output_type": "execute_result",
          "data": {
            "text/plain": [
              "                candidate  candidate_confidence relevant_yn  \\\n",
              "0  No candidate mentioned                   1.0         yes   \n",
              "1            Scott Walker                   1.0         yes   \n",
              "2  No candidate mentioned                   1.0         yes   \n",
              "3  No candidate mentioned                   1.0         yes   \n",
              "4            Donald Trump                   1.0         yes   \n",
              "\n",
              "   relevant_yn_confidence sentiment  sentiment_confidence     subject_matter  \\\n",
              "0                     1.0   Neutral                0.6578  None of the above   \n",
              "1                     1.0  Positive                0.6333  None of the above   \n",
              "2                     1.0   Neutral                0.6629  None of the above   \n",
              "3                     1.0  Positive                1.0000  None of the above   \n",
              "4                     1.0  Positive                0.7045  None of the above   \n",
              "\n",
              "   subject_matter_confidence             name  retweet_count  \\\n",
              "0                     1.0000       I_Am_Kenzi              5   \n",
              "1                     1.0000    PeacefulQuest             26   \n",
              "2                     0.6629    PussssyCroook             27   \n",
              "3                     0.7039  MattFromTexas31            138   \n",
              "4                     1.0000       sharonDay5            156   \n",
              "\n",
              "                                                text  \\\n",
              "0  RT @NancyLeeGrahn: How did everyone feel about...   \n",
              "1  RT @ScottWalker: Didn't catch the full #GOPdeb...   \n",
              "2  RT @TJMShow: No mention of Tamir Rice and the ...   \n",
              "3  RT @RobGeorge: That Carly Fiorina is trending ...   \n",
              "4  RT @DanScavino: #GOPDebate w/ @realDonaldTrump...   \n",
              "\n",
              "               tweet_created            tweet_id tweet_location  \\\n",
              "0  2015-08-07 09:54:46 -0700  629697200650592256            NaN   \n",
              "1  2015-08-07 09:54:46 -0700  629697199560069120            NaN   \n",
              "2  2015-08-07 09:54:46 -0700  629697199312482304            NaN   \n",
              "3  2015-08-07 09:54:45 -0700  629697197118861312          Texas   \n",
              "4  2015-08-07 09:54:45 -0700  629697196967903232            NaN   \n",
              "\n",
              "                user_timezone  \n",
              "0                       Quito  \n",
              "1                         NaN  \n",
              "2                         NaN  \n",
              "3  Central Time (US & Canada)  \n",
              "4                     Arizona  "
            ],
            "text/html": [
              "\n",
              "  <div id=\"df-3200506d-b5e5-49ff-85e5-ae59c7113ca8\">\n",
              "    <div class=\"colab-df-container\">\n",
              "      <div>\n",
              "<style scoped>\n",
              "    .dataframe tbody tr th:only-of-type {\n",
              "        vertical-align: middle;\n",
              "    }\n",
              "\n",
              "    .dataframe tbody tr th {\n",
              "        vertical-align: top;\n",
              "    }\n",
              "\n",
              "    .dataframe thead th {\n",
              "        text-align: right;\n",
              "    }\n",
              "</style>\n",
              "<table border=\"1\" class=\"dataframe\">\n",
              "  <thead>\n",
              "    <tr style=\"text-align: right;\">\n",
              "      <th></th>\n",
              "      <th>candidate</th>\n",
              "      <th>candidate_confidence</th>\n",
              "      <th>relevant_yn</th>\n",
              "      <th>relevant_yn_confidence</th>\n",
              "      <th>sentiment</th>\n",
              "      <th>sentiment_confidence</th>\n",
              "      <th>subject_matter</th>\n",
              "      <th>subject_matter_confidence</th>\n",
              "      <th>name</th>\n",
              "      <th>retweet_count</th>\n",
              "      <th>text</th>\n",
              "      <th>tweet_created</th>\n",
              "      <th>tweet_id</th>\n",
              "      <th>tweet_location</th>\n",
              "      <th>user_timezone</th>\n",
              "    </tr>\n",
              "  </thead>\n",
              "  <tbody>\n",
              "    <tr>\n",
              "      <th>0</th>\n",
              "      <td>No candidate mentioned</td>\n",
              "      <td>1.0</td>\n",
              "      <td>yes</td>\n",
              "      <td>1.0</td>\n",
              "      <td>Neutral</td>\n",
              "      <td>0.6578</td>\n",
              "      <td>None of the above</td>\n",
              "      <td>1.0000</td>\n",
              "      <td>I_Am_Kenzi</td>\n",
              "      <td>5</td>\n",
              "      <td>RT @NancyLeeGrahn: How did everyone feel about...</td>\n",
              "      <td>2015-08-07 09:54:46 -0700</td>\n",
              "      <td>629697200650592256</td>\n",
              "      <td>NaN</td>\n",
              "      <td>Quito</td>\n",
              "    </tr>\n",
              "    <tr>\n",
              "      <th>1</th>\n",
              "      <td>Scott Walker</td>\n",
              "      <td>1.0</td>\n",
              "      <td>yes</td>\n",
              "      <td>1.0</td>\n",
              "      <td>Positive</td>\n",
              "      <td>0.6333</td>\n",
              "      <td>None of the above</td>\n",
              "      <td>1.0000</td>\n",
              "      <td>PeacefulQuest</td>\n",
              "      <td>26</td>\n",
              "      <td>RT @ScottWalker: Didn't catch the full #GOPdeb...</td>\n",
              "      <td>2015-08-07 09:54:46 -0700</td>\n",
              "      <td>629697199560069120</td>\n",
              "      <td>NaN</td>\n",
              "      <td>NaN</td>\n",
              "    </tr>\n",
              "    <tr>\n",
              "      <th>2</th>\n",
              "      <td>No candidate mentioned</td>\n",
              "      <td>1.0</td>\n",
              "      <td>yes</td>\n",
              "      <td>1.0</td>\n",
              "      <td>Neutral</td>\n",
              "      <td>0.6629</td>\n",
              "      <td>None of the above</td>\n",
              "      <td>0.6629</td>\n",
              "      <td>PussssyCroook</td>\n",
              "      <td>27</td>\n",
              "      <td>RT @TJMShow: No mention of Tamir Rice and the ...</td>\n",
              "      <td>2015-08-07 09:54:46 -0700</td>\n",
              "      <td>629697199312482304</td>\n",
              "      <td>NaN</td>\n",
              "      <td>NaN</td>\n",
              "    </tr>\n",
              "    <tr>\n",
              "      <th>3</th>\n",
              "      <td>No candidate mentioned</td>\n",
              "      <td>1.0</td>\n",
              "      <td>yes</td>\n",
              "      <td>1.0</td>\n",
              "      <td>Positive</td>\n",
              "      <td>1.0000</td>\n",
              "      <td>None of the above</td>\n",
              "      <td>0.7039</td>\n",
              "      <td>MattFromTexas31</td>\n",
              "      <td>138</td>\n",
              "      <td>RT @RobGeorge: That Carly Fiorina is trending ...</td>\n",
              "      <td>2015-08-07 09:54:45 -0700</td>\n",
              "      <td>629697197118861312</td>\n",
              "      <td>Texas</td>\n",
              "      <td>Central Time (US &amp; Canada)</td>\n",
              "    </tr>\n",
              "    <tr>\n",
              "      <th>4</th>\n",
              "      <td>Donald Trump</td>\n",
              "      <td>1.0</td>\n",
              "      <td>yes</td>\n",
              "      <td>1.0</td>\n",
              "      <td>Positive</td>\n",
              "      <td>0.7045</td>\n",
              "      <td>None of the above</td>\n",
              "      <td>1.0000</td>\n",
              "      <td>sharonDay5</td>\n",
              "      <td>156</td>\n",
              "      <td>RT @DanScavino: #GOPDebate w/ @realDonaldTrump...</td>\n",
              "      <td>2015-08-07 09:54:45 -0700</td>\n",
              "      <td>629697196967903232</td>\n",
              "      <td>NaN</td>\n",
              "      <td>Arizona</td>\n",
              "    </tr>\n",
              "  </tbody>\n",
              "</table>\n",
              "</div>\n",
              "      <button class=\"colab-df-convert\" onclick=\"convertToInteractive('df-3200506d-b5e5-49ff-85e5-ae59c7113ca8')\"\n",
              "              title=\"Convert this dataframe to an interactive table.\"\n",
              "              style=\"display:none;\">\n",
              "        \n",
              "  <svg xmlns=\"http://www.w3.org/2000/svg\" height=\"24px\"viewBox=\"0 0 24 24\"\n",
              "       width=\"24px\">\n",
              "    <path d=\"M0 0h24v24H0V0z\" fill=\"none\"/>\n",
              "    <path d=\"M18.56 5.44l.94 2.06.94-2.06 2.06-.94-2.06-.94-.94-2.06-.94 2.06-2.06.94zm-11 1L8.5 8.5l.94-2.06 2.06-.94-2.06-.94L8.5 2.5l-.94 2.06-2.06.94zm10 10l.94 2.06.94-2.06 2.06-.94-2.06-.94-.94-2.06-.94 2.06-2.06.94z\"/><path d=\"M17.41 7.96l-1.37-1.37c-.4-.4-.92-.59-1.43-.59-.52 0-1.04.2-1.43.59L10.3 9.45l-7.72 7.72c-.78.78-.78 2.05 0 2.83L4 21.41c.39.39.9.59 1.41.59.51 0 1.02-.2 1.41-.59l7.78-7.78 2.81-2.81c.8-.78.8-2.07 0-2.86zM5.41 20L4 18.59l7.72-7.72 1.47 1.35L5.41 20z\"/>\n",
              "  </svg>\n",
              "      </button>\n",
              "      \n",
              "  <style>\n",
              "    .colab-df-container {\n",
              "      display:flex;\n",
              "      flex-wrap:wrap;\n",
              "      gap: 12px;\n",
              "    }\n",
              "\n",
              "    .colab-df-convert {\n",
              "      background-color: #E8F0FE;\n",
              "      border: none;\n",
              "      border-radius: 50%;\n",
              "      cursor: pointer;\n",
              "      display: none;\n",
              "      fill: #1967D2;\n",
              "      height: 32px;\n",
              "      padding: 0 0 0 0;\n",
              "      width: 32px;\n",
              "    }\n",
              "\n",
              "    .colab-df-convert:hover {\n",
              "      background-color: #E2EBFA;\n",
              "      box-shadow: 0px 1px 2px rgba(60, 64, 67, 0.3), 0px 1px 3px 1px rgba(60, 64, 67, 0.15);\n",
              "      fill: #174EA6;\n",
              "    }\n",
              "\n",
              "    [theme=dark] .colab-df-convert {\n",
              "      background-color: #3B4455;\n",
              "      fill: #D2E3FC;\n",
              "    }\n",
              "\n",
              "    [theme=dark] .colab-df-convert:hover {\n",
              "      background-color: #434B5C;\n",
              "      box-shadow: 0px 1px 3px 1px rgba(0, 0, 0, 0.15);\n",
              "      filter: drop-shadow(0px 1px 2px rgba(0, 0, 0, 0.3));\n",
              "      fill: #FFFFFF;\n",
              "    }\n",
              "  </style>\n",
              "\n",
              "      <script>\n",
              "        const buttonEl =\n",
              "          document.querySelector('#df-3200506d-b5e5-49ff-85e5-ae59c7113ca8 button.colab-df-convert');\n",
              "        buttonEl.style.display =\n",
              "          google.colab.kernel.accessAllowed ? 'block' : 'none';\n",
              "\n",
              "        async function convertToInteractive(key) {\n",
              "          const element = document.querySelector('#df-3200506d-b5e5-49ff-85e5-ae59c7113ca8');\n",
              "          const dataTable =\n",
              "            await google.colab.kernel.invokeFunction('convertToInteractive',\n",
              "                                                     [key], {});\n",
              "          if (!dataTable) return;\n",
              "\n",
              "          const docLinkHtml = 'Like what you see? Visit the ' +\n",
              "            '<a target=\"_blank\" href=https://colab.research.google.com/notebooks/data_table.ipynb>data table notebook</a>'\n",
              "            + ' to learn more about interactive tables.';\n",
              "          element.innerHTML = '';\n",
              "          dataTable['output_type'] = 'display_data';\n",
              "          await google.colab.output.renderOutput(dataTable, element);\n",
              "          const docLink = document.createElement('div');\n",
              "          docLink.innerHTML = docLinkHtml;\n",
              "          element.appendChild(docLink);\n",
              "        }\n",
              "      </script>\n",
              "    </div>\n",
              "  </div>\n",
              "  "
            ]
          },
          "metadata": {},
          "execution_count": 8
        }
      ]
    },
    {
      "cell_type": "code",
      "source": [
        "df.isnull().sum()"
      ],
      "metadata": {
        "colab": {
          "base_uri": "https://localhost:8080/"
        },
        "id": "B5u0PP425T_h",
        "outputId": "c2f5af1d-c56d-4fd7-ad64-ecb37c13674f"
      },
      "execution_count": 9,
      "outputs": [
        {
          "output_type": "execute_result",
          "data": {
            "text/plain": [
              "candidate                      96\n",
              "candidate_confidence            0\n",
              "relevant_yn                     0\n",
              "relevant_yn_confidence          0\n",
              "sentiment                       0\n",
              "sentiment_confidence            0\n",
              "subject_matter                326\n",
              "subject_matter_confidence       0\n",
              "name                            0\n",
              "retweet_count                   0\n",
              "text                            0\n",
              "tweet_created                   0\n",
              "tweet_id                        0\n",
              "tweet_location               3912\n",
              "user_timezone                4403\n",
              "dtype: int64"
            ]
          },
          "metadata": {},
          "execution_count": 9
        }
      ]
    },
    {
      "cell_type": "code",
      "source": [
        "# removes pattern in the imput text\n",
        "def remove_pattern(input_txt, pattern):\n",
        "    r = re.findall(pattern, input_txt)\n",
        "    for word in r:\n",
        "        input_txt = re.sub(word, \"\",input_txt)\n",
        "    return input_txt"
      ],
      "metadata": {
        "id": "6Dnnx2pc5X_r"
      },
      "execution_count": 10,
      "outputs": []
    },
    {
      "cell_type": "code",
      "source": [
        "#remove twitter handels (@user)\n",
        "df['clean_tweet'] = np.vectorize(remove_pattern)(df['text'],\"@[\\w]*\")\n",
        "df.head()"
      ],
      "metadata": {
        "colab": {
          "base_uri": "https://localhost:8080/",
          "height": 565
        },
        "id": "AstEbqZU5dOj",
        "outputId": "6c4a47c4-e784-4a3f-a31b-e2a8a811b5b7"
      },
      "execution_count": 11,
      "outputs": [
        {
          "output_type": "execute_result",
          "data": {
            "text/plain": [
              "                candidate  candidate_confidence relevant_yn  \\\n",
              "0  No candidate mentioned                   1.0         yes   \n",
              "1            Scott Walker                   1.0         yes   \n",
              "2  No candidate mentioned                   1.0         yes   \n",
              "3  No candidate mentioned                   1.0         yes   \n",
              "4            Donald Trump                   1.0         yes   \n",
              "\n",
              "   relevant_yn_confidence sentiment  sentiment_confidence     subject_matter  \\\n",
              "0                     1.0   Neutral                0.6578  None of the above   \n",
              "1                     1.0  Positive                0.6333  None of the above   \n",
              "2                     1.0   Neutral                0.6629  None of the above   \n",
              "3                     1.0  Positive                1.0000  None of the above   \n",
              "4                     1.0  Positive                0.7045  None of the above   \n",
              "\n",
              "   subject_matter_confidence             name  retweet_count  \\\n",
              "0                     1.0000       I_Am_Kenzi              5   \n",
              "1                     1.0000    PeacefulQuest             26   \n",
              "2                     0.6629    PussssyCroook             27   \n",
              "3                     0.7039  MattFromTexas31            138   \n",
              "4                     1.0000       sharonDay5            156   \n",
              "\n",
              "                                                text  \\\n",
              "0  RT @NancyLeeGrahn: How did everyone feel about...   \n",
              "1  RT @ScottWalker: Didn't catch the full #GOPdeb...   \n",
              "2  RT @TJMShow: No mention of Tamir Rice and the ...   \n",
              "3  RT @RobGeorge: That Carly Fiorina is trending ...   \n",
              "4  RT @DanScavino: #GOPDebate w/ @realDonaldTrump...   \n",
              "\n",
              "               tweet_created            tweet_id tweet_location  \\\n",
              "0  2015-08-07 09:54:46 -0700  629697200650592256            NaN   \n",
              "1  2015-08-07 09:54:46 -0700  629697199560069120            NaN   \n",
              "2  2015-08-07 09:54:46 -0700  629697199312482304            NaN   \n",
              "3  2015-08-07 09:54:45 -0700  629697197118861312          Texas   \n",
              "4  2015-08-07 09:54:45 -0700  629697196967903232            NaN   \n",
              "\n",
              "                user_timezone  \\\n",
              "0                       Quito   \n",
              "1                         NaN   \n",
              "2                         NaN   \n",
              "3  Central Time (US & Canada)   \n",
              "4                     Arizona   \n",
              "\n",
              "                                         clean_tweet  \n",
              "0  RT : How did everyone feel about the Climate C...  \n",
              "1  RT : Didn't catch the full #GOPdebate last nig...  \n",
              "2  RT : No mention of Tamir Rice and the #GOPDeba...  \n",
              "3  RT : That Carly Fiorina is trending -- hours a...  \n",
              "4  RT : #GOPDebate w/  delivered the highest rati...  "
            ],
            "text/html": [
              "\n",
              "  <div id=\"df-25a964c6-0ad6-4845-8e0d-1f0989a910d3\">\n",
              "    <div class=\"colab-df-container\">\n",
              "      <div>\n",
              "<style scoped>\n",
              "    .dataframe tbody tr th:only-of-type {\n",
              "        vertical-align: middle;\n",
              "    }\n",
              "\n",
              "    .dataframe tbody tr th {\n",
              "        vertical-align: top;\n",
              "    }\n",
              "\n",
              "    .dataframe thead th {\n",
              "        text-align: right;\n",
              "    }\n",
              "</style>\n",
              "<table border=\"1\" class=\"dataframe\">\n",
              "  <thead>\n",
              "    <tr style=\"text-align: right;\">\n",
              "      <th></th>\n",
              "      <th>candidate</th>\n",
              "      <th>candidate_confidence</th>\n",
              "      <th>relevant_yn</th>\n",
              "      <th>relevant_yn_confidence</th>\n",
              "      <th>sentiment</th>\n",
              "      <th>sentiment_confidence</th>\n",
              "      <th>subject_matter</th>\n",
              "      <th>subject_matter_confidence</th>\n",
              "      <th>name</th>\n",
              "      <th>retweet_count</th>\n",
              "      <th>text</th>\n",
              "      <th>tweet_created</th>\n",
              "      <th>tweet_id</th>\n",
              "      <th>tweet_location</th>\n",
              "      <th>user_timezone</th>\n",
              "      <th>clean_tweet</th>\n",
              "    </tr>\n",
              "  </thead>\n",
              "  <tbody>\n",
              "    <tr>\n",
              "      <th>0</th>\n",
              "      <td>No candidate mentioned</td>\n",
              "      <td>1.0</td>\n",
              "      <td>yes</td>\n",
              "      <td>1.0</td>\n",
              "      <td>Neutral</td>\n",
              "      <td>0.6578</td>\n",
              "      <td>None of the above</td>\n",
              "      <td>1.0000</td>\n",
              "      <td>I_Am_Kenzi</td>\n",
              "      <td>5</td>\n",
              "      <td>RT @NancyLeeGrahn: How did everyone feel about...</td>\n",
              "      <td>2015-08-07 09:54:46 -0700</td>\n",
              "      <td>629697200650592256</td>\n",
              "      <td>NaN</td>\n",
              "      <td>Quito</td>\n",
              "      <td>RT : How did everyone feel about the Climate C...</td>\n",
              "    </tr>\n",
              "    <tr>\n",
              "      <th>1</th>\n",
              "      <td>Scott Walker</td>\n",
              "      <td>1.0</td>\n",
              "      <td>yes</td>\n",
              "      <td>1.0</td>\n",
              "      <td>Positive</td>\n",
              "      <td>0.6333</td>\n",
              "      <td>None of the above</td>\n",
              "      <td>1.0000</td>\n",
              "      <td>PeacefulQuest</td>\n",
              "      <td>26</td>\n",
              "      <td>RT @ScottWalker: Didn't catch the full #GOPdeb...</td>\n",
              "      <td>2015-08-07 09:54:46 -0700</td>\n",
              "      <td>629697199560069120</td>\n",
              "      <td>NaN</td>\n",
              "      <td>NaN</td>\n",
              "      <td>RT : Didn't catch the full #GOPdebate last nig...</td>\n",
              "    </tr>\n",
              "    <tr>\n",
              "      <th>2</th>\n",
              "      <td>No candidate mentioned</td>\n",
              "      <td>1.0</td>\n",
              "      <td>yes</td>\n",
              "      <td>1.0</td>\n",
              "      <td>Neutral</td>\n",
              "      <td>0.6629</td>\n",
              "      <td>None of the above</td>\n",
              "      <td>0.6629</td>\n",
              "      <td>PussssyCroook</td>\n",
              "      <td>27</td>\n",
              "      <td>RT @TJMShow: No mention of Tamir Rice and the ...</td>\n",
              "      <td>2015-08-07 09:54:46 -0700</td>\n",
              "      <td>629697199312482304</td>\n",
              "      <td>NaN</td>\n",
              "      <td>NaN</td>\n",
              "      <td>RT : No mention of Tamir Rice and the #GOPDeba...</td>\n",
              "    </tr>\n",
              "    <tr>\n",
              "      <th>3</th>\n",
              "      <td>No candidate mentioned</td>\n",
              "      <td>1.0</td>\n",
              "      <td>yes</td>\n",
              "      <td>1.0</td>\n",
              "      <td>Positive</td>\n",
              "      <td>1.0000</td>\n",
              "      <td>None of the above</td>\n",
              "      <td>0.7039</td>\n",
              "      <td>MattFromTexas31</td>\n",
              "      <td>138</td>\n",
              "      <td>RT @RobGeorge: That Carly Fiorina is trending ...</td>\n",
              "      <td>2015-08-07 09:54:45 -0700</td>\n",
              "      <td>629697197118861312</td>\n",
              "      <td>Texas</td>\n",
              "      <td>Central Time (US &amp; Canada)</td>\n",
              "      <td>RT : That Carly Fiorina is trending -- hours a...</td>\n",
              "    </tr>\n",
              "    <tr>\n",
              "      <th>4</th>\n",
              "      <td>Donald Trump</td>\n",
              "      <td>1.0</td>\n",
              "      <td>yes</td>\n",
              "      <td>1.0</td>\n",
              "      <td>Positive</td>\n",
              "      <td>0.7045</td>\n",
              "      <td>None of the above</td>\n",
              "      <td>1.0000</td>\n",
              "      <td>sharonDay5</td>\n",
              "      <td>156</td>\n",
              "      <td>RT @DanScavino: #GOPDebate w/ @realDonaldTrump...</td>\n",
              "      <td>2015-08-07 09:54:45 -0700</td>\n",
              "      <td>629697196967903232</td>\n",
              "      <td>NaN</td>\n",
              "      <td>Arizona</td>\n",
              "      <td>RT : #GOPDebate w/  delivered the highest rati...</td>\n",
              "    </tr>\n",
              "  </tbody>\n",
              "</table>\n",
              "</div>\n",
              "      <button class=\"colab-df-convert\" onclick=\"convertToInteractive('df-25a964c6-0ad6-4845-8e0d-1f0989a910d3')\"\n",
              "              title=\"Convert this dataframe to an interactive table.\"\n",
              "              style=\"display:none;\">\n",
              "        \n",
              "  <svg xmlns=\"http://www.w3.org/2000/svg\" height=\"24px\"viewBox=\"0 0 24 24\"\n",
              "       width=\"24px\">\n",
              "    <path d=\"M0 0h24v24H0V0z\" fill=\"none\"/>\n",
              "    <path d=\"M18.56 5.44l.94 2.06.94-2.06 2.06-.94-2.06-.94-.94-2.06-.94 2.06-2.06.94zm-11 1L8.5 8.5l.94-2.06 2.06-.94-2.06-.94L8.5 2.5l-.94 2.06-2.06.94zm10 10l.94 2.06.94-2.06 2.06-.94-2.06-.94-.94-2.06-.94 2.06-2.06.94z\"/><path d=\"M17.41 7.96l-1.37-1.37c-.4-.4-.92-.59-1.43-.59-.52 0-1.04.2-1.43.59L10.3 9.45l-7.72 7.72c-.78.78-.78 2.05 0 2.83L4 21.41c.39.39.9.59 1.41.59.51 0 1.02-.2 1.41-.59l7.78-7.78 2.81-2.81c.8-.78.8-2.07 0-2.86zM5.41 20L4 18.59l7.72-7.72 1.47 1.35L5.41 20z\"/>\n",
              "  </svg>\n",
              "      </button>\n",
              "      \n",
              "  <style>\n",
              "    .colab-df-container {\n",
              "      display:flex;\n",
              "      flex-wrap:wrap;\n",
              "      gap: 12px;\n",
              "    }\n",
              "\n",
              "    .colab-df-convert {\n",
              "      background-color: #E8F0FE;\n",
              "      border: none;\n",
              "      border-radius: 50%;\n",
              "      cursor: pointer;\n",
              "      display: none;\n",
              "      fill: #1967D2;\n",
              "      height: 32px;\n",
              "      padding: 0 0 0 0;\n",
              "      width: 32px;\n",
              "    }\n",
              "\n",
              "    .colab-df-convert:hover {\n",
              "      background-color: #E2EBFA;\n",
              "      box-shadow: 0px 1px 2px rgba(60, 64, 67, 0.3), 0px 1px 3px 1px rgba(60, 64, 67, 0.15);\n",
              "      fill: #174EA6;\n",
              "    }\n",
              "\n",
              "    [theme=dark] .colab-df-convert {\n",
              "      background-color: #3B4455;\n",
              "      fill: #D2E3FC;\n",
              "    }\n",
              "\n",
              "    [theme=dark] .colab-df-convert:hover {\n",
              "      background-color: #434B5C;\n",
              "      box-shadow: 0px 1px 3px 1px rgba(0, 0, 0, 0.15);\n",
              "      filter: drop-shadow(0px 1px 2px rgba(0, 0, 0, 0.3));\n",
              "      fill: #FFFFFF;\n",
              "    }\n",
              "  </style>\n",
              "\n",
              "      <script>\n",
              "        const buttonEl =\n",
              "          document.querySelector('#df-25a964c6-0ad6-4845-8e0d-1f0989a910d3 button.colab-df-convert');\n",
              "        buttonEl.style.display =\n",
              "          google.colab.kernel.accessAllowed ? 'block' : 'none';\n",
              "\n",
              "        async function convertToInteractive(key) {\n",
              "          const element = document.querySelector('#df-25a964c6-0ad6-4845-8e0d-1f0989a910d3');\n",
              "          const dataTable =\n",
              "            await google.colab.kernel.invokeFunction('convertToInteractive',\n",
              "                                                     [key], {});\n",
              "          if (!dataTable) return;\n",
              "\n",
              "          const docLinkHtml = 'Like what you see? Visit the ' +\n",
              "            '<a target=\"_blank\" href=https://colab.research.google.com/notebooks/data_table.ipynb>data table notebook</a>'\n",
              "            + ' to learn more about interactive tables.';\n",
              "          element.innerHTML = '';\n",
              "          dataTable['output_type'] = 'display_data';\n",
              "          await google.colab.output.renderOutput(dataTable, element);\n",
              "          const docLink = document.createElement('div');\n",
              "          docLink.innerHTML = docLinkHtml;\n",
              "          element.appendChild(docLink);\n",
              "        }\n",
              "      </script>\n",
              "    </div>\n",
              "  </div>\n",
              "  "
            ]
          },
          "metadata": {},
          "execution_count": 11
        }
      ]
    },
    {
      "cell_type": "code",
      "source": [
        "df['sentiment'].unique()"
      ],
      "metadata": {
        "colab": {
          "base_uri": "https://localhost:8080/"
        },
        "id": "Cg-kHVEI5eqX",
        "outputId": "534446c0-25ec-48f0-ca72-972256e47c14"
      },
      "execution_count": 12,
      "outputs": [
        {
          "output_type": "execute_result",
          "data": {
            "text/plain": [
              "array(['Neutral', 'Positive', 'Negative'], dtype=object)"
            ]
          },
          "metadata": {},
          "execution_count": 12
        }
      ]
    },
    {
      "cell_type": "code",
      "source": [
        "# extract the hashtag\n",
        "def hashtag_extract(tweets):\n",
        "    hashtags = []\n",
        "    # loop words in the tweet\n",
        "    for tweet in df['text']:\n",
        "        ht = re.findall(r\"#(\\w+)\", tweet)\n",
        "        hashtags.append(ht)\n",
        "    return hashtags"
      ],
      "metadata": {
        "id": "mVl9gX845hWs"
      },
      "execution_count": 13,
      "outputs": []
    },
    {
      "cell_type": "code",
      "source": [
        "ht_positive = hashtag_extract(df['clean_tweet'][df['sentiment']=='Positive'])\n",
        "\n",
        "ht_neutral = hashtag_extract(df['clean_tweet'][df['sentiment']=='Neutral'])\n",
        "\n",
        "ht_negative = hashtag_extract(df['clean_tweet'][df['sentiment']=='Negative'])"
      ],
      "metadata": {
        "id": "qwls3RDc5jG7"
      },
      "execution_count": 14,
      "outputs": []
    },
    {
      "cell_type": "code",
      "source": [
        "ht_positive = sum(ht_positive, [])\n",
        "ht_negative = sum(ht_negative, [])\n",
        "ht_neutral = sum(ht_neutral, [])"
      ],
      "metadata": {
        "id": "_clybDFb5lAm"
      },
      "execution_count": 15,
      "outputs": []
    },
    {
      "cell_type": "code",
      "source": [
        "freq = nltk.FreqDist(ht_positive)\n",
        "d = pd.DataFrame({'Hashtag': list(freq.keys()),\n",
        "                 'Count': list(freq.values())})\n",
        "d.head()"
      ],
      "metadata": {
        "colab": {
          "base_uri": "https://localhost:8080/",
          "height": 206
        },
        "id": "gNjkxQNk5mYb",
        "outputId": "d3b98e3e-bc6e-478f-b2e9-75202e7f3a36"
      },
      "execution_count": 16,
      "outputs": [
        {
          "output_type": "execute_result",
          "data": {
            "text/plain": [
              "     Hashtag  Count\n",
              "0  GOPDebate   8373\n",
              "1  GOPdebate    441\n",
              "2   Walker16     26\n",
              "3  Trump2016     72\n",
              "4      MSNBC      4"
            ],
            "text/html": [
              "\n",
              "  <div id=\"df-45cc21fa-9f04-4c62-a323-25c921600971\">\n",
              "    <div class=\"colab-df-container\">\n",
              "      <div>\n",
              "<style scoped>\n",
              "    .dataframe tbody tr th:only-of-type {\n",
              "        vertical-align: middle;\n",
              "    }\n",
              "\n",
              "    .dataframe tbody tr th {\n",
              "        vertical-align: top;\n",
              "    }\n",
              "\n",
              "    .dataframe thead th {\n",
              "        text-align: right;\n",
              "    }\n",
              "</style>\n",
              "<table border=\"1\" class=\"dataframe\">\n",
              "  <thead>\n",
              "    <tr style=\"text-align: right;\">\n",
              "      <th></th>\n",
              "      <th>Hashtag</th>\n",
              "      <th>Count</th>\n",
              "    </tr>\n",
              "  </thead>\n",
              "  <tbody>\n",
              "    <tr>\n",
              "      <th>0</th>\n",
              "      <td>GOPDebate</td>\n",
              "      <td>8373</td>\n",
              "    </tr>\n",
              "    <tr>\n",
              "      <th>1</th>\n",
              "      <td>GOPdebate</td>\n",
              "      <td>441</td>\n",
              "    </tr>\n",
              "    <tr>\n",
              "      <th>2</th>\n",
              "      <td>Walker16</td>\n",
              "      <td>26</td>\n",
              "    </tr>\n",
              "    <tr>\n",
              "      <th>3</th>\n",
              "      <td>Trump2016</td>\n",
              "      <td>72</td>\n",
              "    </tr>\n",
              "    <tr>\n",
              "      <th>4</th>\n",
              "      <td>MSNBC</td>\n",
              "      <td>4</td>\n",
              "    </tr>\n",
              "  </tbody>\n",
              "</table>\n",
              "</div>\n",
              "      <button class=\"colab-df-convert\" onclick=\"convertToInteractive('df-45cc21fa-9f04-4c62-a323-25c921600971')\"\n",
              "              title=\"Convert this dataframe to an interactive table.\"\n",
              "              style=\"display:none;\">\n",
              "        \n",
              "  <svg xmlns=\"http://www.w3.org/2000/svg\" height=\"24px\"viewBox=\"0 0 24 24\"\n",
              "       width=\"24px\">\n",
              "    <path d=\"M0 0h24v24H0V0z\" fill=\"none\"/>\n",
              "    <path d=\"M18.56 5.44l.94 2.06.94-2.06 2.06-.94-2.06-.94-.94-2.06-.94 2.06-2.06.94zm-11 1L8.5 8.5l.94-2.06 2.06-.94-2.06-.94L8.5 2.5l-.94 2.06-2.06.94zm10 10l.94 2.06.94-2.06 2.06-.94-2.06-.94-.94-2.06-.94 2.06-2.06.94z\"/><path d=\"M17.41 7.96l-1.37-1.37c-.4-.4-.92-.59-1.43-.59-.52 0-1.04.2-1.43.59L10.3 9.45l-7.72 7.72c-.78.78-.78 2.05 0 2.83L4 21.41c.39.39.9.59 1.41.59.51 0 1.02-.2 1.41-.59l7.78-7.78 2.81-2.81c.8-.78.8-2.07 0-2.86zM5.41 20L4 18.59l7.72-7.72 1.47 1.35L5.41 20z\"/>\n",
              "  </svg>\n",
              "      </button>\n",
              "      \n",
              "  <style>\n",
              "    .colab-df-container {\n",
              "      display:flex;\n",
              "      flex-wrap:wrap;\n",
              "      gap: 12px;\n",
              "    }\n",
              "\n",
              "    .colab-df-convert {\n",
              "      background-color: #E8F0FE;\n",
              "      border: none;\n",
              "      border-radius: 50%;\n",
              "      cursor: pointer;\n",
              "      display: none;\n",
              "      fill: #1967D2;\n",
              "      height: 32px;\n",
              "      padding: 0 0 0 0;\n",
              "      width: 32px;\n",
              "    }\n",
              "\n",
              "    .colab-df-convert:hover {\n",
              "      background-color: #E2EBFA;\n",
              "      box-shadow: 0px 1px 2px rgba(60, 64, 67, 0.3), 0px 1px 3px 1px rgba(60, 64, 67, 0.15);\n",
              "      fill: #174EA6;\n",
              "    }\n",
              "\n",
              "    [theme=dark] .colab-df-convert {\n",
              "      background-color: #3B4455;\n",
              "      fill: #D2E3FC;\n",
              "    }\n",
              "\n",
              "    [theme=dark] .colab-df-convert:hover {\n",
              "      background-color: #434B5C;\n",
              "      box-shadow: 0px 1px 3px 1px rgba(0, 0, 0, 0.15);\n",
              "      filter: drop-shadow(0px 1px 2px rgba(0, 0, 0, 0.3));\n",
              "      fill: #FFFFFF;\n",
              "    }\n",
              "  </style>\n",
              "\n",
              "      <script>\n",
              "        const buttonEl =\n",
              "          document.querySelector('#df-45cc21fa-9f04-4c62-a323-25c921600971 button.colab-df-convert');\n",
              "        buttonEl.style.display =\n",
              "          google.colab.kernel.accessAllowed ? 'block' : 'none';\n",
              "\n",
              "        async function convertToInteractive(key) {\n",
              "          const element = document.querySelector('#df-45cc21fa-9f04-4c62-a323-25c921600971');\n",
              "          const dataTable =\n",
              "            await google.colab.kernel.invokeFunction('convertToInteractive',\n",
              "                                                     [key], {});\n",
              "          if (!dataTable) return;\n",
              "\n",
              "          const docLinkHtml = 'Like what you see? Visit the ' +\n",
              "            '<a target=\"_blank\" href=https://colab.research.google.com/notebooks/data_table.ipynb>data table notebook</a>'\n",
              "            + ' to learn more about interactive tables.';\n",
              "          element.innerHTML = '';\n",
              "          dataTable['output_type'] = 'display_data';\n",
              "          await google.colab.output.renderOutput(dataTable, element);\n",
              "          const docLink = document.createElement('div');\n",
              "          docLink.innerHTML = docLinkHtml;\n",
              "          element.appendChild(docLink);\n",
              "        }\n",
              "      </script>\n",
              "    </div>\n",
              "  </div>\n",
              "  "
            ]
          },
          "metadata": {},
          "execution_count": 16
        }
      ]
    },
    {
      "cell_type": "code",
      "source": [
        "d.shape"
      ],
      "metadata": {
        "colab": {
          "base_uri": "https://localhost:8080/"
        },
        "id": "ealQccqC5qkM",
        "outputId": "399220f0-229d-4c0e-fcd4-9f2c807bd539"
      },
      "execution_count": 17,
      "outputs": [
        {
          "output_type": "execute_result",
          "data": {
            "text/plain": [
              "(2150, 2)"
            ]
          },
          "metadata": {},
          "execution_count": 17
        }
      ]
    },
    {
      "cell_type": "code",
      "source": [
        "df['clean_tweet']"
      ],
      "metadata": {
        "colab": {
          "base_uri": "https://localhost:8080/"
        },
        "id": "X4BE5elk5sDW",
        "outputId": "d01a54e1-592a-4e68-95cf-844f52754ee2"
      },
      "execution_count": 18,
      "outputs": [
        {
          "output_type": "execute_result",
          "data": {
            "text/plain": [
              "0        RT : How did everyone feel about the Climate C...\n",
              "1        RT : Didn't catch the full #GOPdebate last nig...\n",
              "2        RT : No mention of Tamir Rice and the #GOPDeba...\n",
              "3        RT : That Carly Fiorina is trending -- hours a...\n",
              "4        RT : #GOPDebate w/  delivered the highest rati...\n",
              "                               ...                        \n",
              "13866    RT : Love to see men who will never be faced w...\n",
              "13867    RT : Who thought Huckabee exceeded their expec...\n",
              "13868    RT : #TedCruz As President, I will always tell...\n",
              "13869    RT : #GOPDebate Donald Trump says that he does...\n",
              "13870    RT : #TedCruz headed into the Presidential Deb...\n",
              "Name: clean_tweet, Length: 13871, dtype: object"
            ]
          },
          "metadata": {},
          "execution_count": 18
        }
      ]
    },
    {
      "cell_type": "code",
      "source": [
        "df['clean_tweet'] = df['clean_tweet'].str.replace('RT : ', '')"
      ],
      "metadata": {
        "id": "RiXo0nex5uhQ"
      },
      "execution_count": 19,
      "outputs": []
    },
    {
      "cell_type": "code",
      "source": [
        "x = df['clean_tweet']"
      ],
      "metadata": {
        "id": "oh8sxFSM5v9D"
      },
      "execution_count": 20,
      "outputs": []
    },
    {
      "cell_type": "code",
      "source": [
        "# converting the strings into lowercase\n",
        "x = x.apply(lambda x: x.lower())\n",
        "print(x)"
      ],
      "metadata": {
        "colab": {
          "base_uri": "https://localhost:8080/"
        },
        "id": "j-RYGbIg5xQq",
        "outputId": "b35ec178-979a-4420-c732-ee91e6f82d62"
      },
      "execution_count": 21,
      "outputs": [
        {
          "output_type": "stream",
          "name": "stdout",
          "text": [
            "0        how did everyone feel about the climate change...\n",
            "1        didn't catch the full #gopdebate last night. h...\n",
            "2        no mention of tamir rice and the #gopdebate wa...\n",
            "3        that carly fiorina is trending -- hours after ...\n",
            "4        #gopdebate w/  delivered the highest ratings i...\n",
            "                               ...                        \n",
            "13866    love to see men who will never be faced with a...\n",
            "13867    who thought huckabee exceeded their expectatio...\n",
            "13868    #tedcruz as president, i will always tell the ...\n",
            "13869    #gopdebate donald trump says that he doesn't h...\n",
            "13870    #tedcruz headed into the presidential debates....\n",
            "Name: clean_tweet, Length: 13871, dtype: object\n"
          ]
        }
      ]
    },
    {
      "cell_type": "code",
      "source": [
        "# converting numbers to text (eg: 3 -> \"three\")\n",
        "import inflect\n",
        "q = inflect.engine()\n",
        "\n",
        "def convert_num(text):\n",
        "    temp_string = text.split()\n",
        "    new_str=[]\n",
        "\n",
        "    for word in temp_string:\n",
        "        if word.isdigit():\n",
        "            temp=q.number_to_words(word)\n",
        "            new_str.append(temp)\n",
        "\n",
        "        else:\n",
        "            new_str.append(word)\n",
        "\n",
        "    temp_str = ' '.join(new_str)\n",
        "    return temp_str"
      ],
      "metadata": {
        "id": "fN-QIini51Xi"
      },
      "execution_count": 22,
      "outputs": []
    },
    {
      "cell_type": "code",
      "source": [
        "x= x.apply(convert_num)\n",
        "print(x)"
      ],
      "metadata": {
        "colab": {
          "base_uri": "https://localhost:8080/"
        },
        "id": "MALuXwBB546w",
        "outputId": "6dc2fe24-ebee-46a1-c01c-89356e33f931"
      },
      "execution_count": 23,
      "outputs": [
        {
          "output_type": "stream",
          "name": "stdout",
          "text": [
            "0        how did everyone feel about the climate change...\n",
            "1        didn't catch the full #gopdebate last night. h...\n",
            "2        no mention of tamir rice and the #gopdebate wa...\n",
            "3        that carly fiorina is trending -- hours after ...\n",
            "4        #gopdebate w/ delivered the highest ratings in...\n",
            "                               ...                        \n",
            "13866    love to see men who will never be faced with a...\n",
            "13867    who thought huckabee exceeded their expectatio...\n",
            "13868    #tedcruz as president, i will always tell the ...\n",
            "13869    #gopdebate donald trump says that he doesn't h...\n",
            "13870    #tedcruz headed into the presidential debates....\n",
            "Name: clean_tweet, Length: 13871, dtype: object\n"
          ]
        }
      ]
    },
    {
      "cell_type": "code",
      "source": [
        "def rem_pun(text):\n",
        "    translator = str.maketrans('','', string.punctuation)\n",
        "    return text.translate(translator)\n",
        "x = x.apply(rem_pun)"
      ],
      "metadata": {
        "id": "yPrm_Vqa56Y4"
      },
      "execution_count": 24,
      "outputs": []
    },
    {
      "cell_type": "code",
      "source": [
        "from nltk.corpus import stopwords\n",
        "from nltk.tokenize import word_tokenize\n",
        "\n",
        "nltk.download(\"stopwords\")\n",
        "nltk.download(\"punkt\")\n",
        "\n",
        "def remove_stopwords(text):\n",
        "    stop_words = set(stopwords.words(\"english\"))\n",
        "    word_tokens = word_tokenize(text)\n",
        "    filtered_text = [word for word in word_tokens if word not in stop_words]\n",
        "    return ' '.join(filtered_text)"
      ],
      "metadata": {
        "colab": {
          "base_uri": "https://localhost:8080/"
        },
        "id": "kFtWKMIW59L7",
        "outputId": "3513e711-93a6-4a80-8a6c-3a64e4029b76"
      },
      "execution_count": 25,
      "outputs": [
        {
          "output_type": "stream",
          "name": "stderr",
          "text": [
            "[nltk_data] Downloading package stopwords to /root/nltk_data...\n",
            "[nltk_data]   Package stopwords is already up-to-date!\n",
            "[nltk_data] Downloading package punkt to /root/nltk_data...\n",
            "[nltk_data]   Package punkt is already up-to-date!\n"
          ]
        }
      ]
    },
    {
      "cell_type": "code",
      "source": [
        "x=x.apply(remove_stopwords)\n",
        "x"
      ],
      "metadata": {
        "colab": {
          "base_uri": "https://localhost:8080/"
        },
        "id": "RVMGVxDN5_E6",
        "outputId": "7fd531df-097e-424c-e7a5-e4e823ae68bd"
      },
      "execution_count": 26,
      "outputs": [
        {
          "output_type": "execute_result",
          "data": {
            "text/plain": [
              "0        everyone feel climate change question last nig...\n",
              "1        didnt catch full gopdebate last night scotts b...\n",
              "2          mention tamir rice gopdebate held cleveland wow\n",
              "3        carly fiorina trending hours debate men justco...\n",
              "4        gopdebate w delivered highest ratings history ...\n",
              "                               ...                        \n",
              "13866    love see men never faced pregnancy talk body ❤...\n",
              "13867    thought huckabee exceeded expectations gopdeba...\n",
              "13868    tedcruz president always tell truth said would...\n",
              "13869    gopdebate donald trump says doesnt time politi...\n",
              "13870    tedcruz headed presidential debates go ted gop...\n",
              "Name: clean_tweet, Length: 13871, dtype: object"
            ]
          },
          "metadata": {},
          "execution_count": 26
        }
      ]
    },
    {
      "cell_type": "code",
      "source": [
        "from nltk.stem import wordnet\n",
        "from nltk.tokenize import word_tokenize\n",
        "lemma = wordnet.WordNetLemmatizer()\n",
        "nltk.download('wordnet')\n",
        "\n",
        "def lemmatize_word(text):\n",
        "    word_tokens = word_tokenize(text)\n",
        "    lemmas = [lemma.lemmatize(word, pos='v') for word in word_tokens]\n",
        "    return ' '.join(lemmas)\n",
        "\n",
        "x=x.apply(lemmatize_word)\n",
        "x"
      ],
      "metadata": {
        "colab": {
          "base_uri": "https://localhost:8080/"
        },
        "id": "E-nxAIat6Ayq",
        "outputId": "337dfa0d-3a23-46a0-d8ce-cf5bace7689b"
      },
      "execution_count": 27,
      "outputs": [
        {
          "output_type": "stream",
          "name": "stderr",
          "text": [
            "[nltk_data] Downloading package wordnet to /root/nltk_data...\n",
            "[nltk_data]   Package wordnet is already up-to-date!\n"
          ]
        },
        {
          "output_type": "execute_result",
          "data": {
            "text/plain": [
              "0        everyone feel climate change question last nig...\n",
              "1        didnt catch full gopdebate last night scotts b...\n",
              "2          mention tamir rice gopdebate hold cleveland wow\n",
              "3        carly fiorina trend hours debate men justcompl...\n",
              "4        gopdebate w deliver highest rat history presid...\n",
              "                               ...                        \n",
              "13866    love see men never face pregnancy talk body ❤️...\n",
              "13867    think huckabee exceed expectations gopdebate i...\n",
              "13868    tedcruz president always tell truth say would ...\n",
              "13869    gopdebate donald trump say doesnt time politic...\n",
              "13870    tedcruz head presidential debate go ted gopdeb...\n",
              "Name: clean_tweet, Length: 13871, dtype: object"
            ]
          },
          "metadata": {},
          "execution_count": 27
        }
      ]
    },
    {
      "cell_type": "code",
      "source": [
        "import nltk\n",
        "\n",
        "# Download the vader_lexicon resource\n",
        "nltk.download('vader_lexicon')"
      ],
      "metadata": {
        "colab": {
          "base_uri": "https://localhost:8080/"
        },
        "id": "ey8MrWgd6Wdp",
        "outputId": "a481652f-6444-42d4-b172-3831e670090b"
      },
      "execution_count": 28,
      "outputs": [
        {
          "output_type": "stream",
          "name": "stderr",
          "text": [
            "[nltk_data] Downloading package vader_lexicon to /root/nltk_data...\n",
            "[nltk_data]   Package vader_lexicon is already up-to-date!\n"
          ]
        },
        {
          "output_type": "execute_result",
          "data": {
            "text/plain": [
              "True"
            ]
          },
          "metadata": {},
          "execution_count": 28
        }
      ]
    },
    {
      "cell_type": "code",
      "source": [
        "from nltk.sentiment import SentimentIntensityAnalyzer\n",
        "\n",
        "sia = SentimentIntensityAnalyzer()\n",
        "x['Polarity_Score'] = x.apply(lambda x: sia.polarity_scores(x))"
      ],
      "metadata": {
        "id": "jl_566tO6EBY"
      },
      "execution_count": 29,
      "outputs": []
    },
    {
      "cell_type": "code",
      "source": [
        "x['Polarity_Score']"
      ],
      "metadata": {
        "colab": {
          "base_uri": "https://localhost:8080/"
        },
        "id": "4YrBFUMO6HrF",
        "outputId": "b90777ec-ad10-4d4e-a16b-a4a5c6fdbb1f"
      },
      "execution_count": 30,
      "outputs": [
        {
          "output_type": "execute_result",
          "data": {
            "text/plain": [
              "0        {'neg': 0.0, 'neu': 1.0, 'pos': 0.0, 'compound...\n",
              "1        {'neg': 0.0, 'neu': 0.741, 'pos': 0.259, 'comp...\n",
              "2        {'neg': 0.0, 'neu': 0.612, 'pos': 0.388, 'comp...\n",
              "3        {'neg': 0.0, 'neu': 1.0, 'pos': 0.0, 'compound...\n",
              "4        {'neg': 0.0, 'neu': 1.0, 'pos': 0.0, 'compound...\n",
              "                               ...                        \n",
              "13866    {'neg': 0.0, 'neu': 0.682, 'pos': 0.318, 'comp...\n",
              "13867    {'neg': 0.0, 'neu': 1.0, 'pos': 0.0, 'compound...\n",
              "13868    {'neg': 0.0, 'neu': 0.753, 'pos': 0.247, 'comp...\n",
              "13869    {'neg': 0.0, 'neu': 0.789, 'pos': 0.211, 'comp...\n",
              "13870    {'neg': 0.0, 'neu': 1.0, 'pos': 0.0, 'compound...\n",
              "Name: clean_tweet, Length: 13871, dtype: object"
            ]
          },
          "metadata": {},
          "execution_count": 30
        }
      ]
    },
    {
      "cell_type": "code",
      "source": [
        "df['sentiment'].value_counts()"
      ],
      "metadata": {
        "colab": {
          "base_uri": "https://localhost:8080/"
        },
        "id": "HOGxK5xjCfnD",
        "outputId": "522d5309-f768-4450-c54e-f10d3481a588"
      },
      "execution_count": 31,
      "outputs": [
        {
          "output_type": "execute_result",
          "data": {
            "text/plain": [
              "Negative    8493\n",
              "Neutral     3142\n",
              "Positive    2236\n",
              "Name: sentiment, dtype: int64"
            ]
          },
          "metadata": {},
          "execution_count": 31
        }
      ]
    },
    {
      "cell_type": "code",
      "source": [
        "from sklearn.model_selection import train_test_split\n",
        "x = df['clean_tweet']\n",
        "y = df['sentiment']\n",
        "\n",
        "# Split the data into train and test sets\n",
        "x_train, x_test, y_train, y_test = train_test_split(x, y, test_size=0.2, random_state=42)"
      ],
      "metadata": {
        "id": "lFbh2C5uEuLP"
      },
      "execution_count": 32,
      "outputs": []
    },
    {
      "cell_type": "code",
      "source": [
        "num_words = len(x)\n",
        "print(num_words)"
      ],
      "metadata": {
        "colab": {
          "base_uri": "https://localhost:8080/"
        },
        "id": "E101Loj6I39p",
        "outputId": "571f28c6-afec-4ada-820a-d0e372413df3"
      },
      "execution_count": 33,
      "outputs": [
        {
          "output_type": "stream",
          "name": "stdout",
          "text": [
            "13871\n"
          ]
        }
      ]
    },
    {
      "cell_type": "code",
      "source": [
        "import nltk\n",
        "nltk.download('punkt')\n",
        "\n",
        "from nltk.tokenize import word_tokenize\n",
        "from keras.preprocessing.text import Tokenizer\n",
        "from tensorflow.keras.preprocessing.sequence import pad_sequences\n",
        "from keras.models import Sequential\n",
        "from keras.layers import Embedding, LSTM, Dense, Dropout\n",
        "from sklearn.preprocessing import LabelEncoder\n",
        "\n",
        "import warnings\n",
        "warnings.filterwarnings('ignore')\n",
        "sns.set()"
      ],
      "metadata": {
        "colab": {
          "base_uri": "https://localhost:8080/"
        },
        "id": "Oxcdod7bJBnd",
        "outputId": "897d1298-8dba-4301-9436-5634c377b559"
      },
      "execution_count": 34,
      "outputs": [
        {
          "output_type": "stream",
          "name": "stderr",
          "text": [
            "[nltk_data] Downloading package punkt to /root/nltk_data...\n",
            "[nltk_data]   Package punkt is already up-to-date!\n"
          ]
        }
      ]
    },
    {
      "cell_type": "code",
      "source": [
        "tokenizer = Tokenizer(num_words)\n",
        "tokenizer.fit_on_texts(x_train)\n",
        "x_train = tokenizer.texts_to_sequences(x_train)\n",
        "x_train = pad_sequences(x_train, maxlen=36, truncating='post', padding='post')"
      ],
      "metadata": {
        "id": "XasqXhOqFeYd"
      },
      "execution_count": 35,
      "outputs": []
    },
    {
      "cell_type": "code",
      "source": [
        "x_train[1], len(x_train[1])"
      ],
      "metadata": {
        "colab": {
          "base_uri": "https://localhost:8080/"
        },
        "id": "c1Ww-TcdFf6_",
        "outputId": "7eb56f44-3d5a-4335-fb61-451cb867f7e3"
      },
      "execution_count": 36,
      "outputs": [
        {
          "output_type": "execute_result",
          "data": {
            "text/plain": [
              "(array([ 12, 377, 626,  24,  63,   7, 655, 291, 591,   1,   0,   0,   0,\n",
              "          0,   0,   0,   0,   0,   0,   0,   0,   0,   0,   0,   0,   0,\n",
              "          0,   0,   0,   0,   0,   0,   0,   0,   0,   0], dtype=int32),\n",
              " 36)"
            ]
          },
          "metadata": {},
          "execution_count": 36
        }
      ]
    },
    {
      "cell_type": "code",
      "source": [
        "x_test = tokenizer.texts_to_sequences(x_test)\n",
        "x_test = pad_sequences(x_test, maxlen=36, truncating='post', padding='post')"
      ],
      "metadata": {
        "id": "4YqLyk2QHM0_"
      },
      "execution_count": 37,
      "outputs": []
    },
    {
      "cell_type": "code",
      "source": [
        "x_test[0], len(x_test[0])"
      ],
      "metadata": {
        "colab": {
          "base_uri": "https://localhost:8080/"
        },
        "id": "PCr9bt9aM3uZ",
        "outputId": "5da884ea-7de7-4749-b6ec-534fb388eb50"
      },
      "execution_count": 38,
      "outputs": [
        {
          "output_type": "execute_result",
          "data": {
            "text/plain": [
              "(array([  4,  36,   2, 191, 266,   7,  31,  52,   1,  24, 484,   0,   0,\n",
              "          0,   0,   0,   0,   0,   0,   0,   0,   0,   0,   0,   0,   0,\n",
              "          0,   0,   0,   0,   0,   0,   0,   0,   0,   0], dtype=int32),\n",
              " 36)"
            ]
          },
          "metadata": {},
          "execution_count": 38
        }
      ]
    },
    {
      "cell_type": "code",
      "source": [
        "print(x_train.shape, y_train.shape)\n",
        "print(x_test.shape, y_test.shape)"
      ],
      "metadata": {
        "colab": {
          "base_uri": "https://localhost:8080/"
        },
        "id": "g6aT6VWqM7cN",
        "outputId": "b04a635d-cc4e-4ad5-ff04-5afabf9aa367"
      },
      "execution_count": 39,
      "outputs": [
        {
          "output_type": "stream",
          "name": "stdout",
          "text": [
            "(11096, 36) (11096,)\n",
            "(2775, 36) (2775,)\n"
          ]
        }
      ]
    },
    {
      "cell_type": "code",
      "source": [
        "le = LabelEncoder()\n",
        "y_train = le.fit_transform(y_train)\n",
        "y_test = le.fit_transform(y_test)"
      ],
      "metadata": {
        "id": "BU_YVjOyPKUT"
      },
      "execution_count": 40,
      "outputs": []
    },
    {
      "cell_type": "code",
      "source": [
        "model = Sequential()\n",
        "\n",
        "model.add(Embedding(input_dim=num_words, output_dim=100, input_length=36, trainable=True))\n",
        "model.add(LSTM(100, dropout=0.1, return_sequences=True))\n",
        "model.add(LSTM(100, dropout=0.1))\n",
        "model.add(Dense(1, activation='sigmoid'))\n",
        "\n",
        "model.compile(loss='binary_crossentropy', optimizer='adam', metrics=['accuracy'])"
      ],
      "metadata": {
        "id": "3e2rnxmWNF7-"
      },
      "execution_count": 41,
      "outputs": []
    },
    {
      "cell_type": "code",
      "source": [
        "model.summary()"
      ],
      "metadata": {
        "colab": {
          "base_uri": "https://localhost:8080/"
        },
        "id": "-L8gET06N_yO",
        "outputId": "ccc520dc-bf45-484b-a914-437a89a8e4d9"
      },
      "execution_count": 42,
      "outputs": [
        {
          "output_type": "stream",
          "name": "stdout",
          "text": [
            "Model: \"sequential\"\n",
            "_________________________________________________________________\n",
            " Layer (type)                Output Shape              Param #   \n",
            "=================================================================\n",
            " embedding (Embedding)       (None, 36, 100)           1387100   \n",
            "                                                                 \n",
            " lstm (LSTM)                 (None, 36, 100)           80400     \n",
            "                                                                 \n",
            " lstm_1 (LSTM)               (None, 100)               80400     \n",
            "                                                                 \n",
            " dense (Dense)               (None, 1)                 101       \n",
            "                                                                 \n",
            "=================================================================\n",
            "Total params: 1,548,001\n",
            "Trainable params: 1,548,001\n",
            "Non-trainable params: 0\n",
            "_________________________________________________________________\n"
          ]
        }
      ]
    },
    {
      "cell_type": "code",
      "source": [
        "history = model.fit(x_train, y_train, epochs=5, batch_size=128, validation_data=(x_test, y_test))"
      ],
      "metadata": {
        "colab": {
          "base_uri": "https://localhost:8080/"
        },
        "id": "sCVLHJt8OFTK",
        "outputId": "1a2c8407-9bcb-426c-dbd3-116b4d48561c"
      },
      "execution_count": 49,
      "outputs": [
        {
          "output_type": "stream",
          "name": "stdout",
          "text": [
            "Epoch 1/5\n",
            "87/87 [==============================] - 27s 304ms/step - loss: -20.6092 - accuracy: 0.7176 - val_loss: -4.4688 - val_accuracy: 0.6083\n",
            "Epoch 2/5\n",
            "87/87 [==============================] - 28s 319ms/step - loss: -22.9947 - accuracy: 0.7068 - val_loss: -4.8134 - val_accuracy: 0.6169\n",
            "Epoch 3/5\n",
            "87/87 [==============================] - 27s 309ms/step - loss: -23.8878 - accuracy: 0.6909 - val_loss: -4.2246 - val_accuracy: 0.5820\n",
            "Epoch 4/5\n",
            "87/87 [==============================] - 26s 302ms/step - loss: -27.0141 - accuracy: 0.7266 - val_loss: -4.5024 - val_accuracy: 0.6065\n",
            "Epoch 5/5\n",
            "87/87 [==============================] - 40s 458ms/step - loss: -29.4355 - accuracy: 0.7213 - val_loss: -3.0530 - val_accuracy: 0.5953\n"
          ]
        }
      ]
    },
    {
      "cell_type": "code",
      "source": [
        "# Evaluate the model\n",
        "loss, accuracy = model.evaluate(x_test, y_test)\n",
        "\n",
        "print(\"Accuracy:\", accuracy)"
      ],
      "metadata": {
        "colab": {
          "base_uri": "https://localhost:8080/"
        },
        "id": "MVaQJYWxWQ7C",
        "outputId": "e484cac2-84ad-409a-f2b1-bdb505aacc47"
      },
      "execution_count": 50,
      "outputs": [
        {
          "output_type": "stream",
          "name": "stdout",
          "text": [
            "87/87 [==============================] - 2s 27ms/step - loss: -3.0530 - accuracy: 0.5953\n",
            "Accuracy: 0.5953153371810913\n"
          ]
        }
      ]
    },
    {
      "cell_type": "code",
      "source": [],
      "metadata": {
        "id": "gmAvD37FbOv5"
      },
      "execution_count": null,
      "outputs": []
    }
  ]
}